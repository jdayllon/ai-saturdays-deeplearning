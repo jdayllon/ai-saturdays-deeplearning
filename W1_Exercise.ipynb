{
  "nbformat": 4,
  "nbformat_minor": 0,
  "metadata": {
    "colab": {
      "name": "W1-Exercise.ipynb",
      "provenance": [],
      "collapsed_sections": [],
      "include_colab_link": true
    },
    "kernelspec": {
      "name": "python3",
      "display_name": "Python 3"
    }
  },
  "cells": [
    {
      "cell_type": "markdown",
      "metadata": {
        "id": "view-in-github",
        "colab_type": "text"
      },
      "source": [
        "<a href=\"https://colab.research.google.com/github/jdayllon/ai-saturdays-deeplearning/blob/main/W1_Exercise.ipynb\" target=\"_parent\"><img src=\"https://colab.research.google.com/assets/colab-badge.svg\" alt=\"Open In Colab\"/></a>"
      ]
    },
    {
      "cell_type": "markdown",
      "metadata": {
        "id": "gaQ-SZYiYluX"
      },
      "source": [
        "# **Deep Learning - Week 1 - Exercise**\n"
      ]
    },
    {
      "cell_type": "markdown",
      "metadata": {
        "id": "QSsJCONaaBw_"
      },
      "source": [
        "\n",
        "## **Objective**\n",
        "\n",
        "Deep Learning requires not only of a different aproach but also of a new set of tools to work with this kind of projects.\n",
        "\n",
        "The main goal of this week is to know and use this tools, in order to solve a problem with less complexity."
      ]
    },
    {
      "cell_type": "markdown",
      "metadata": {
        "id": "qSp4AxvxYnL0"
      },
      "source": [
        "## **TensorFlow**\n",
        "\n",
        "![TensorFlow](https://upload.wikimedia.org/wikipedia/commons/thumb/1/11/TensorFlowLogo.svg/200px-TensorFlowLogo.svg.png)\n",
        "\n",
        "\n",
        "\n",
        "> TensorFlow is a free and open-source software library for machine learning. It can be used across a range of tasks but has a particular focus on training and inference of deep neural networks. *- (Wikipedia)*\n",
        "\n",
        "> TensorFlow is an end-to-end open source platform for machine learning. It has a comprehensive, flexible ecosystem of tools, libraries and community resources that lets researchers push the state-of-the-art in ML and developers easily build and deploy ML powered applications. *- (tensorflow.org)*\n",
        "\n",
        "### History\n",
        "\n",
        "Google Brain built DistBelief on 2011 as a proprietary machine learning system based on deep learning neural networks. Its use grew rapidly across diverse Google companies in both research and commercial applications.\n",
        "\n",
        "The second-generation system of Google Brain division is TensorFlow, which was released on February 11, 2017: can run on multiple CPUs and GPUs and is available on 64-bit Linux, macOS, Windows, and mobile computing platforms including Android and iOS.\n",
        "\n",
        "\n",
        "### Features\n",
        "\n",
        "A big difference from other libraries used for Deep Learning, is that TensorFlow has a huge scalability. This is because it was designed to run locally or remotely with few changes on the code. In fact, when is runned locally it creates a local cluster of 1 node. \n",
        "\n",
        "Another important feature is related to the way that TensorFlow computations are expressed as stateful dataflow graphs.\n"
      ]
    },
    {
      "cell_type": "markdown",
      "metadata": {
        "id": "ObsgwPFFfaSc"
      },
      "source": [
        "## **Graphs**\n",
        "\n",
        "In mathematics, and more specifically in graph theory, a graph is a structure amounting to a set of objects in which some pairs of the objects are in some sense \"related\".\n",
        "\n",
        "The objects correspond to mathematical abstractions called *vertices* or *nodes*, and each of the related pairs of vertices is called an *edge* (also called link or line). Typically, a graph is depicted in diagrammatic form as a set of dots or circles for the vertices, joined by lines or curves for the edges. \n",
        "\n",
        "On the starting nodes are placed the data to solve the graph, like constants and variables. Then, on each step of the graph, there is a node with a specific operation to be performed and the lines connecting the right nodes to work as defined with the all graph.\n",
        "\n",
        "In this example can be seen the graph form of a function:\n",
        "\n",
        "![Graph function](https://www.simplilearn.com/ice9/free_resources_article_thumb/computational-graphs-for-tensorflow-operations.jpg)\n",
        "\n",
        "At a first look this seems to be a complicated way to solve a function that can be easily expressed on one line of Python code.\n",
        "\n",
        "But this way to build the solution for this function show some kind of *layers* between the starting nodes and the output node. This concept is  very useful on Deep Learning.\n",
        "\n",
        "Another advantage of this mechanism is about to split or share the calculations over different devices, like CPUs or GPUs.\n",
        "\n",
        "![Graph function cluster](https://www.simplilearn.com/ice9/free_resources_article_thumb/computational-graph-broken-into-chunks-for-parallel-computing.jpg)\n",
        "\n"
      ]
    },
    {
      "cell_type": "markdown",
      "metadata": {
        "id": "W_bWDkdWmZiX"
      },
      "source": [
        "## **TensorFlow Example**\n",
        "In order to get familiarized with the structure and behaviour of the algoritms used on Deep Leaning, lets start with a simple function calculation:\n",
        "\n",
        "\n",
        "$$\n",
        "f(x,y) = x^2 y + y + 2\n",
        "$$\n",
        "\n",
        "\n",
        "As can be seen in the formula, there are a constant value and two variables: $x$ and $y$.\n",
        "\n",
        "In this example we will learn the steps necesary to solve the function with diferent values on the variables."
      ]
    },
    {
      "cell_type": "markdown",
      "metadata": {
        "id": "TDMfnr9ArkQ0"
      },
      "source": [
        "### Example code\n",
        "\n",
        "The first step, as usual in any Pyhton code, is to import the libraries to use.\n",
        "\n",
        "In this case the imported library is TensorFlow and the standar alias is \"tf\"."
      ]
    },
    {
      "cell_type": "code",
      "metadata": {
        "id": "AF-eVsp9b5A_"
      },
      "source": [
        "import tensorflow as tf"
      ],
      "execution_count": 1,
      "outputs": []
    },
    {
      "cell_type": "markdown",
      "metadata": {
        "id": "kAm3zQ4dsESE"
      },
      "source": [
        "The starting point in most Deep Learning projects is to define the type of data to be used.\n",
        "\n",
        "Data can be of two different types:\n",
        "\n",
        "- Constant: the value is unmodified during the calculations\n",
        "- Variable: the value is modified when the calculations are performed\n",
        "\n",
        "Going back to the function, $x$ and $y$ are variables and $2$ is a constant value.\n",
        "\n",
        "An important thing to have in mind is that any variable must have an initial value, to avoid calculations with empty nodes.\n",
        "\n",
        "The next step is to define this data."
      ]
    },
    {
      "cell_type": "code",
      "metadata": {
        "id": "gpQFfrzvgJ_p"
      },
      "source": [
        "# Define variable data, with the initial value = 0\n",
        "x = tf.Variable(0) \n",
        "y = tf.Variable(0)\n",
        "\n",
        "# Define constant data\n",
        "c = tf.constant(2)\n"
      ],
      "execution_count": 2,
      "outputs": []
    },
    {
      "cell_type": "markdown",
      "metadata": {
        "id": "NiHHwrFSzjfJ"
      },
      "source": [
        "It's important to have in mind that most of the functions on TensorFlow work by pairs, which affect the way to construct the graph calculation.\n",
        "\n",
        "In a regular Python code, the formula could be easily calculated as:\n",
        "\n",
        "```python\n",
        "f = (x ** 2) * y + y + 2\n",
        "```\n",
        "\n",
        "Using TensorFlow to achieve the same result is a little different, because each step can only include two objects.\n"
      ]
    },
    {
      "cell_type": "code",
      "metadata": {
        "id": "LKXU3eyZgpON"
      },
      "source": [
        "# Build the graph\n",
        "step1 = tf.math.multiply(x,x)\n",
        "step2 = tf.math.multiply(step1,y)\n",
        "step3 = tf.math.add(y,c)\n",
        "\n",
        "f = tf.math.add(step2,step3)\n"
      ],
      "execution_count": 3,
      "outputs": []
    },
    {
      "cell_type": "markdown",
      "metadata": {
        "id": "eD_NwrbEznpx"
      },
      "source": [
        "Instead of use the regular Python math functions, the example is using the internal TensorFlow math functions.\n",
        "\n",
        "At this point, this could seem a complicated way to perform a simple calculation. But this is just an example to understand the way TensorFlow works.\n",
        "\n",
        "The TensorFlow math functions are specially designed to work with paralelism by default, this means that the same code could work in local CPU or GPU environments, as well in remote cluster computing solutions (cloud or private clusters).\n",
        "\n",
        "The value of the function `f` can be shown converting the TensorFlow object to numpy:"
      ]
    },
    {
      "cell_type": "code",
      "metadata": {
        "id": "l2F_UiCZufUd",
        "colab": {
          "base_uri": "https://localhost:8080/"
        },
        "outputId": "cca5b371-71f9-4df1-c5bc-306ee00b2852"
      },
      "source": [
        "print(\"f: \", f.numpy())"
      ],
      "execution_count": 4,
      "outputs": [
        {
          "output_type": "stream",
          "name": "stdout",
          "text": [
            "f:  2\n"
          ]
        }
      ]
    },
    {
      "cell_type": "markdown",
      "metadata": {
        "id": "DwCc11Auuvr_"
      },
      "source": [
        "The result is `2` because the $x$ and $y$ variables have an initial value of `0`. Solving the function manually it can be checked that the result is correct.\n",
        "\n",
        "But what if $x$ and $y$ have a different value?\n",
        "\n",
        "$$\n",
        "f (3,4) = ?\n",
        "$$\n",
        "\n",
        "As doing maths with a paper and a pencil, the values have to be assigned to the variables.\n",
        "\n",
        "This can be done as follows:\n"
      ]
    },
    {
      "cell_type": "code",
      "metadata": {
        "id": "ACrzqA1gkUHk",
        "colab": {
          "base_uri": "https://localhost:8080/"
        },
        "outputId": "ff0a11a9-e3e7-48fa-cbd8-a6f1007691f9"
      },
      "source": [
        "# Assign values to variables\n",
        "x.assign(3)\n",
        "y.assign(4)\n"
      ],
      "execution_count": 5,
      "outputs": [
        {
          "output_type": "execute_result",
          "data": {
            "text/plain": [
              "<tf.Variable 'UnreadVariable' shape=() dtype=int32, numpy=4>"
            ]
          },
          "metadata": {},
          "execution_count": 5
        }
      ]
    },
    {
      "cell_type": "markdown",
      "metadata": {
        "id": "evTkyUU-v3Sc"
      },
      "source": [
        "This is an important step because the variable was first declared and then a new value was assign to it.\n",
        "\n",
        "This is very useful when working with complex calculations like the needed for Deep Learning.\n",
        "\n",
        "The next step is to solve the function with the new values for $x$ and $y$."
      ]
    },
    {
      "cell_type": "code",
      "metadata": {
        "id": "_F35GcPMqtYk"
      },
      "source": [
        "# Build the graph\n",
        "step1 = tf.math.multiply(x,x)\n",
        "step2 = tf.math.multiply(step1,y)\n",
        "step3 = tf.math.add(y,c)\n",
        "\n",
        "f = tf.math.add(step2,step3)\n"
      ],
      "execution_count": 6,
      "outputs": []
    },
    {
      "cell_type": "markdown",
      "metadata": {
        "id": "QuXusRZm61Lp"
      },
      "source": [
        "Again, the solved value of $f(3,4)$ can be shown converting the final object to numpy."
      ]
    },
    {
      "cell_type": "code",
      "metadata": {
        "id": "X04MqVtk6zmh",
        "colab": {
          "base_uri": "https://localhost:8080/"
        },
        "outputId": "e3adb235-c67b-4bd2-d862-f494e394ea59"
      },
      "source": [
        "print(\"f: \", f.numpy())"
      ],
      "execution_count": 7,
      "outputs": [
        {
          "output_type": "stream",
          "name": "stdout",
          "text": [
            "f:  42\n"
          ]
        }
      ]
    },
    {
      "cell_type": "markdown",
      "metadata": {
        "id": "055FDxp49uhh"
      },
      "source": [
        "At the end, assigning values and creating the graph each time seems not to be a good solution.\n",
        "\n",
        "The regular way to work with the same piece of code again and again is to build a function.\n",
        "\n",
        "For this porpouse, TensorFlow introduce a \"decoration\", declaration over a function, with the `@tf.function` statement previous to the function definition. This way the followed function will have a speacial treatment with an automatic graph creation and optimized to get the best performance posible on the environment where it is running.\n",
        "\n",
        "This is the final function with all the previous steps included:"
      ]
    },
    {
      "cell_type": "code",
      "metadata": {
        "id": "ScR4TgYVoTdY"
      },
      "source": [
        "# Define variable data, with the initial value = 0\n",
        "x = tf.Variable(0) \n",
        "y = tf.Variable(0)\n",
        "\n",
        "# Define constant data\n",
        "c = tf.constant(2)\n",
        "\n",
        "# TF function\n",
        "@tf.function\n",
        "def f_function(x_value,y_value):\n",
        "\n",
        "  # Assign values to variables\n",
        "  x.assign(x_value)\n",
        "  y.assign(y_value)\n",
        "  \n",
        "  # Build the graph\n",
        "  step1 = tf.math.multiply(x,x)\n",
        "  step2 = tf.math.multiply(step1,y)\n",
        "  step3 = tf.math.add(y,c)\n",
        "\n",
        "  f = tf.math.add(step2,step3)\n",
        "  \n",
        "  return f\n"
      ],
      "execution_count": 8,
      "outputs": []
    },
    {
      "cell_type": "markdown",
      "metadata": {
        "id": "bA1L7SFw_QaB"
      },
      "source": [
        "Now the function can be used any time, just passing the values as a regular Python function.\n"
      ]
    },
    {
      "cell_type": "code",
      "metadata": {
        "id": "02XbS-md_hTg",
        "colab": {
          "base_uri": "https://localhost:8080/"
        },
        "outputId": "062b4521-6aa7-4bd5-9d39-fa8c847d277f"
      },
      "source": [
        "# Testing f_function\n",
        "f1 = f_function(3,4)\n",
        "\n",
        "print(\"f1: \", f1.numpy())"
      ],
      "execution_count": 9,
      "outputs": [
        {
          "output_type": "stream",
          "name": "stdout",
          "text": [
            "f1:  42\n"
          ]
        }
      ]
    },
    {
      "cell_type": "markdown",
      "metadata": {
        "id": "WN5dgHIeBezx"
      },
      "source": [
        "### Linear Regression\n",
        "\n",
        "When working with regular Machine Learning libraries like [Scikit-Learn](https://scikit-learn.org) the training of a model is a little bit simpler because a lot of internal operations are solved by the model itself.\n",
        "\n",
        "Using Deep Learning libraries allows to build a model and train it, but again the model has to be built, step by step in order to be able to be used.\n"
      ]
    },
    {
      "cell_type": "markdown",
      "metadata": {
        "id": "vEWo6oiZT9b4"
      },
      "source": [
        "The first step is to create a sintetic dataset with data to train. This is a good practice to focus on the model and not in the data.\n",
        "\n",
        "The dataset created can be shaped to fit the needs for testing the model.\n",
        "\n",
        "In this case, the dataset correspond to a simple group of data around a line, with a random error."
      ]
    },
    {
      "cell_type": "code",
      "metadata": {
        "id": "nBl-Q_1DBaTT"
      },
      "source": [
        "### Linear Regression\n",
        "import numpy as np\n",
        "import matplotlib.pyplot as plt \n",
        "import tensorflow as tf\n",
        "\n",
        "# Generate sintetic train data\n",
        "np.random.seed(3)\n",
        "x_train = np.linspace(0, 10, 100)\n",
        "y_train = x_train + np.random.normal(0,1,100)\n",
        "\n"
      ],
      "execution_count": 10,
      "outputs": []
    },
    {
      "cell_type": "markdown",
      "metadata": {
        "id": "s-nnUJv96Fy9"
      },
      "source": [
        "Like any Machine Learning or Deep Learning project, a basic EDA can be done just visualizing the dataset."
      ]
    },
    {
      "cell_type": "code",
      "metadata": {
        "id": "ZKXV5OhTt7uA",
        "colab": {
          "base_uri": "https://localhost:8080/",
          "height": 265
        },
        "outputId": "970d4d1d-1c1a-4d76-f987-11f139ed4876"
      },
      "source": [
        "# View train data\n",
        "plt.scatter(x_train, y_train, color='r', alpha=0.5)\n",
        "plt.show()\n"
      ],
      "execution_count": 11,
      "outputs": [
        {
          "output_type": "display_data",
          "data": {
            "text/plain": [
              "<Figure size 432x288 with 1 Axes>"
            ],
            "image/png": "[encoded data removed]"
          },
          "metadata": {
            "needs_background": "light"
          }
        }
      ]
    },
    {
      "cell_type": "markdown",
      "metadata": {
        "id": "ULE6_D0068Y2"
      },
      "source": [
        "To build the model is very important to define how long it would be running.\n",
        "\n",
        "The model will perform calculations in each iteration, seeking to improve the result. This process repeats over and over, until a condition is reached.\n",
        "\n",
        "As a general rule, one of this conditions are used to finish the iteration loop:\n",
        "\n",
        "- The accuracy is equal or better to a predefined value.\n",
        "- A maximum number of iterations is done.\n",
        "\n",
        "> In the Deep Learning models, each iteration receive the name of *epoch*.\n",
        "\n",
        "At the start of a project, to run a model until a predefined accuracy is obtained could be risky, because it could be working hours or days to get that condition. Sometimes the accuracy can't be reached and the model would be running endless.\n",
        "\n",
        "In this case a maximum number of epochs is defined.\n",
        "\n",
        "Another parameter defined is the *learning rate* which is kind of the amount of modification on each epoch."
      ]
    },
    {
      "cell_type": "code",
      "metadata": {
        "id": "hr-3Ayj_ebOn"
      },
      "source": [
        "# Parameters\n",
        "learning_rate = 0.01\n",
        "training_epochs = 3000\n"
      ],
      "execution_count": 12,
      "outputs": []
    },
    {
      "cell_type": "markdown",
      "metadata": {
        "id": "iPkeyW_CA-d4"
      },
      "source": [
        "In the same way as explained on the previous example, the variables used in the model have to be defined as objects of the TensorFlow library.\n",
        "\n",
        "Just for remember, the ecuation of a Linear Regression is the following:\n",
        "\n",
        "$$\n",
        "y = \\beta * x + \\alpha\n",
        "$$\n",
        "\n",
        "And also can be expressed as:\n",
        "\n",
        "$$\n",
        "y = \\beta_{1} * x + \\beta_{0}\n",
        "$$\n",
        "\n",
        "Having in mind the limitation to use greek characters, in the code is used:\n",
        "\n",
        "$$\n",
        "a = \\alpha\n",
        "\\\\\n",
        "b = \\beta\n",
        "$$\n",
        "\n",
        "Because of the similarity with the equation of a line, this variables also receive the following names:\n",
        "\n",
        "$$\n",
        "a, \\alpha: \\mathrm{Intercept}\n",
        "\\\\\n",
        "b, \\beta: \\mathrm{Slope}\n",
        "$$\n",
        "\n",
        "In each epoch this variables will be modified by the model trying to fit the resulting line to the data, looking for minimize the error.\n",
        "\n",
        "Training the model means work in this variables."
      ]
    },
    {
      "cell_type": "code",
      "metadata": {
        "id": "27Tpi5k-em0B"
      },
      "source": [
        "# Initialyze coeficients with random values\n",
        "a = tf.Variable(np.random.randn())\n",
        "b = tf.Variable(np.random.randn())\n"
      ],
      "execution_count": 13,
      "outputs": []
    },
    {
      "cell_type": "markdown",
      "metadata": {
        "id": "yGH_L8XxFLM4"
      },
      "source": [
        "The next step is to define two very usefull functions.\n",
        "\n",
        "The first one, called *linear_regression* is going to be used on each epoch to calculate the resultant dataset with the current `a` and `b` values.\n",
        "\n",
        "This is needed to later calculate the error between the *trained* dataset and the initial one.\n",
        "\n",
        "The second function is the one that calculates this error. In this case a mean square error is calculated between the *trained* or *predicted* dataset and the initial one."
      ]
    },
    {
      "cell_type": "code",
      "metadata": {
        "id": "QOndYY05slXY"
      },
      "source": [
        "# Update train values\n",
        "def linear_regression(x):\n",
        "  return b * x + a\n",
        "\n",
        "# Calculate error\n",
        "def squared_error(y_pred, y_true):\n",
        "   return tf.reduce_mean(tf.square(y_pred - y_true))\n"
      ],
      "execution_count": 14,
      "outputs": []
    },
    {
      "cell_type": "markdown",
      "metadata": {
        "id": "qmTDdc9_IqnG"
      },
      "source": [
        "With all the elements ready, the final step is to train the model.\n",
        "\n",
        "In each epoch the `y_predicted` dataset is calculated, and then the `loss_function` calculate the error between this dataset and the initial one, called `y_train`.\n",
        "\n",
        "After that the `a` and `b` variables are updated according to the `learning_rate` defined.\n",
        "\n",
        "This is done over and over until the maximum number of `training_epochs` is reached."
      ]
    },
    {
      "cell_type": "code",
      "metadata": {
        "id": "g_DWiaPNs7Qu"
      },
      "source": [
        "# Train the model\n",
        "for epoch in range(training_epochs):\n",
        "  with tf.GradientTape() as g:\n",
        "    y_predicted = linear_regression(x_train)\n",
        "    loss_funtion = squared_error(y_predicted, y_train)\n",
        "  \n",
        "  # Update gradients\n",
        "  gradients = g.gradient(loss_funtion, [b,a])\n",
        "\n",
        "  # Update coeficients\n",
        "  b.assign_sub(gradients[0]*learning_rate)\n",
        "  a.assign_sub(gradients[1]*learning_rate)\n"
      ],
      "execution_count": 15,
      "outputs": []
    },
    {
      "cell_type": "markdown",
      "metadata": {
        "id": "n21SphCzLVoW"
      },
      "source": [
        "After the model has been trained, it could be compared with the initial dataset."
      ]
    },
    {
      "cell_type": "code",
      "metadata": {
        "id": "rbh48_aUuQ69",
        "colab": {
          "base_uri": "https://localhost:8080/",
          "height": 265
        },
        "outputId": "83b00b4d-dabf-41dc-8656-6f8a4e17bdf3"
      },
      "source": [
        "# View trained data\n",
        "plt.scatter(x_train, y_train, color='r', alpha=0.5)\n",
        "plt.plot(x_train, linear_regression(x_train), 'b')\n",
        "plt.show()\n"
      ],
      "execution_count": 16,
      "outputs": [
        {
          "output_type": "display_data",
          "data": {
            "text/plain": [
              "<Figure size 432x288 with 1 Axes>"
            ],
            "image/png": "[encoded data removed]"
          },
          "metadata": {
            "needs_background": "light"
          }
        }
      ]
    },
    {
      "cell_type": "markdown",
      "metadata": {
        "id": "Z1Of-7-kLjXF"
      },
      "source": [
        "As can be seen, the model was trained successfully.\n",
        "\n",
        "The `learnig_rate` and the number of `training_epochs` can be modified to view a different behaviour of the model training."
      ]
    },
    {
      "cell_type": "markdown",
      "metadata": {
        "id": "jkqRX2pnIDiP"
      },
      "source": [
        "## **Compare results**\n",
        "\n",
        "Some of the best ways to learn something is by doing. Now is your turn.\n",
        "\n",
        "Given the same dataset, you have to train a regular Machine Learning model and a Deep Learning model, both to solve a Linear Regression.\n",
        "\n",
        "For the first case, [Scikit-Learn](https://scikit-learn.org) (aka sklearn) could be an option. For the second, TensorFlow could be a good option too.\n",
        "\n",
        "As a check step, the values of the *slope* and *intercept* has to be shown for each model.\n",
        "\n",
        "After that, you have to do a prediction with the trained model to find the corresponding value for the input equal to 5:\n",
        "\n",
        "$$\n",
        "y = f(5) = ?\n",
        "$$\n",
        "\n",
        "The last step is to calculate the difference between the predicted value of each model.\n",
        "\n",
        "For this task, after each prediction with the correspondent model, store the predicted value on `ml_prediction` for the Machine Learning model and on `dl_prediction` for the Deep Learning model."
      ]
    },
    {
      "cell_type": "markdown",
      "metadata": {
        "id": "oDlsX90j7ftg"
      },
      "source": [
        "### Dataset\n",
        "\n",
        "In order to work in a controlled environment, the dataset will be generated to easy work directly with the models."
      ]
    },
    {
      "cell_type": "code",
      "metadata": {
        "id": "tM6AVGviILc1"
      },
      "source": [
        "### Linear Regression\n",
        "import numpy as np\n",
        "import matplotlib.pyplot as plt \n",
        "import tensorflow as tf\n",
        "\n",
        "# Generate sintetic train data\n",
        "np.random.seed(7)\n",
        "x_train = np.linspace(0, 10, 100)\n",
        "y_train = x_train * 0.75 + np.random.normal(0,1,100)\n"
      ],
      "execution_count": 17,
      "outputs": []
    },
    {
      "cell_type": "markdown",
      "metadata": {
        "id": "Zal7jkz278Wb"
      },
      "source": [
        "Again now, it's always a good idea to view the dataset to know a little bit more about the data to work with.\n"
      ]
    },
    {
      "cell_type": "code",
      "metadata": {
        "id": "Q9IbwpXHITZI",
        "colab": {
          "base_uri": "https://localhost:8080/",
          "height": 268
        },
        "outputId": "b0e042aa-9941-4491-c566-f774a0d365b9"
      },
      "source": [
        "# View train data\n",
        "plt.scatter(x_train, y_train, color='r', alpha=0.5)\n",
        "plt.show()\n"
      ],
      "execution_count": 18,
      "outputs": [
        {
          "output_type": "display_data",
          "data": {
            "text/plain": [
              "<Figure size 432x288 with 1 Axes>"
            ],
            "image/png": "[encoded data removed]"
          },
          "metadata": {
            "needs_background": "light"
          }
        }
      ]
    },
    {
      "cell_type": "markdown",
      "metadata": {
        "id": "-Llv0QyWK1Ji"
      },
      "source": [
        "### Machine Learning Solution\n",
        "\n"
      ]
    },
    {
      "cell_type": "code",
      "metadata": {
        "id": "tEqun_jOCuhC"
      },
      "source": [
        "# Write your Machine Learning Solution here\n",
        "import numpy as np\n",
        "from sklearn.linear_model import LinearRegression\n",
        "\n",
        "reg = LinearRegression().fit(x_train.reshape(-1, 1), y_train.reshape(-1, 1))"
      ],
      "execution_count": 24,
      "outputs": []
    },
    {
      "cell_type": "code",
      "source": [
        "print(f\"Intercept: {reg.intercept_[0]}, Slope: {reg.coef_[0][0]}\")\n",
        "\n",
        "ml_prediction = reg.predict(np.array([[5]]))[0][0]"
      ],
      "metadata": {
        "colab": {
          "base_uri": "https://localhost:8080/"
        },
        "id": "sTKQ06tZvXEz",
        "outputId": "fd2e606b-d758-4243-81b4-4169cf0f81d9"
      },
      "execution_count": 55,
      "outputs": [
        {
          "output_type": "stream",
          "name": "stdout",
          "text": [
            "Intercept: -0.17355958436873253, Slope: 0.7871250017772936\n"
          ]
        }
      ]
    },
    {
      "cell_type": "markdown",
      "metadata": {
        "id": "ezh3mpENJVs7"
      },
      "source": [
        "### Deep Learning Solution\n",
        "\n"
      ]
    },
    {
      "cell_type": "code",
      "metadata": {
        "id": "sijAh_gkC1Bv"
      },
      "source": [
        "# Write your Deep Learning Solution here\n",
        "\n",
        "# Initialyze coeficients with random values\n",
        "a = tf.Variable(np.random.randn())\n",
        "b = tf.Variable(np.random.randn())\n",
        "\n",
        "# Train the model\n",
        "for epoch in range(training_epochs):\n",
        "  with tf.GradientTape() as g:\n",
        "    y_predicted = linear_regression(x_train)\n",
        "    loss_funtion = squared_error(y_predicted, y_train)\n",
        "  \n",
        "  # Update gradients\n",
        "  gradients = g.gradient(loss_funtion, [b,a])\n",
        "\n",
        "  # Update coeficients\n",
        "  b.assign_sub(gradients[0]*learning_rate)\n",
        "  a.assign_sub(gradients[1]*learning_rate)"
      ],
      "execution_count": 38,
      "outputs": []
    },
    {
      "cell_type": "code",
      "source": [
        "print(f\"Intercept: {a.numpy()}, Slope: {b.numpy()}\")\n",
        "\n",
        "dl_prediction = linear_regression(5).numpy()"
      ],
      "metadata": {
        "colab": {
          "base_uri": "https://localhost:8080/"
        },
        "id": "695bZC9ixEZS",
        "outputId": "9fdba95d-152b-41c1-811b-a2e1405706f7"
      },
      "execution_count": 58,
      "outputs": [
        {
          "output_type": "stream",
          "name": "stdout",
          "text": [
            "Intercept: -0.1735619157552719, Slope: 0.7871254086494446\n"
          ]
        }
      ]
    },
    {
      "cell_type": "markdown",
      "metadata": {
        "id": "3mHlHk8KKwmp"
      },
      "source": [
        "### Difference\n",
        "\n",
        "To compare the results of each model, calculate the difference between both results:\n"
      ]
    },
    {
      "cell_type": "code",
      "metadata": {
        "id": "fetFKtLtN91I",
        "colab": {
          "base_uri": "https://localhost:8080/"
        },
        "outputId": "b3688183-ac29-4a5b-9d68-c9a33c0607fb"
      },
      "source": [
        "# Define predicted variables\n",
        "# ml_prediction: Machine Learning prediction\n",
        "# dl_prediction: Deep Learning prediction\n",
        "\n",
        "print('ML Prediction:', ml_prediction)\n",
        "print('DL Prediction:', dl_prediction)\n",
        "print('')\n",
        "print('Difference:', ml_prediction - dl_prediction)\n"
      ],
      "execution_count": 59,
      "outputs": [
        {
          "output_type": "stream",
          "name": "stdout",
          "text": [
            "ML Prediction: 3.7620654245177354\n",
            "DL Prediction: 3.7620652\n",
            "\n",
            "Difference: 2.523223008310538e-07\n"
          ]
        }
      ]
    },
    {
      "cell_type": "markdown",
      "metadata": {
        "id": "9TnRXYoaBMBZ"
      },
      "source": [
        "> The difference between each model is: **low**"
      ]
    },
    {
      "cell_type": "markdown",
      "metadata": {
        "id": "7N9ADa-MUByL"
      },
      "source": [
        "---"
      ]
    }
  ]
}