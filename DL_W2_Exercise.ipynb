{
  "nbformat": 4,
  "nbformat_minor": 0,
  "metadata": {
    "colab": {
      "name": "DL-W2-Exercise",
      "provenance": [],
      "collapsed_sections": [],
      "toc_visible": true,
      "include_colab_link": true
    },
    "kernelspec": {
      "name": "python3",
      "display_name": "Python 3"
    }
  },
  "cells": [
    {
      "cell_type": "markdown",
      "metadata": {
        "id": "view-in-github",
        "colab_type": "text"
      },
      "source": [
        "<a href=\"https://colab.research.google.com/github/jdayllon/ai-saturdays-deeplearning/blob/main/DL_W2_Exercise.ipynb\" target=\"_parent\"><img src=\"https://colab.research.google.com/assets/colab-badge.svg\" alt=\"Open In Colab\"/></a>"
      ]
    },
    {
      "cell_type": "markdown",
      "metadata": {
        "id": "8qDza_vQV9H1"
      },
      "source": [
        "# **Deep Learning - Week 2 - Exercise**\n"
      ]
    },
    {
      "cell_type": "markdown",
      "metadata": {
        "id": "7wcMImYgWIOh"
      },
      "source": [
        "# **Objective**\n",
        "\n",
        "Deep Learning heavily depend on mathematics to achieve incredibles results, using a huge amount of data. To work with each data in a secuencial way is very slow and can't be easily scalable.\n",
        "\n",
        "Matrix and tensor operations allows to perform operations with a complete dataset in a easy way and, at the same time, achiecing a great performance not only in resources but also in time.\n",
        "\n",
        "The main goal of this week is to know how to use the Deep Learning mathematics in real life problems.\n"
      ]
    },
    {
      "cell_type": "markdown",
      "metadata": {
        "id": "RZ74sA6di7UK"
      },
      "source": [
        "# **Dimensions**\n",
        "\n",
        "Working with matrices and tensors is a way to view the world from another point of view: it is all about dimentions.\n",
        "\n"
      ]
    },
    {
      "cell_type": "markdown",
      "metadata": {
        "id": "8dyzWmJyjsFg"
      },
      "source": [
        "## **Scalar**\n",
        "\n",
        "Scalars are single numbers and are an example of a 0th-order tensor.\n",
        "\n",
        "In mathematics it is necessary to describe the set of values to which a scalar belongs. The notation $x  \\in  \\mathbb{R}$ states that the (lowercase) scalar value $x$ is an element of (or member of) the set of real-valued numbers, $\\mathbb{R}$.\n",
        "\n",
        "There are various sets of numbers of interest within Deep Learning. $\\mathbb{N}$ represents the set of positive integers ($1, 2, 3, ...$). $\\mathbb{Z}$ represents the integers, which include positive, negative and zero values. $\\mathbb{Q}$ represents the set of *rational* numbers that may be expressed as a fraction of two integers.\n"
      ]
    },
    {
      "cell_type": "markdown",
      "metadata": {
        "id": "1TWz5YoPjv40"
      },
      "source": [
        "## **Vector**\n",
        "\n",
        "A Vector is an ordered array of single numbers and is an example of 1st-order tensor.\n",
        "\n",
        "Vectors are members of objects known as vector spaces. A vector space can be thought of as the entire collection of *all* possible vectors of a particular length (or dimension). The three-dimensional real-valued vector space, denoted by $\\mathbb{R}^{3}$ is often used to represent our real-world notion of three-dimensional space mathematically.\n",
        "\n",
        "More formally a vector space is an $n$-dimensional Cartesian product of a set with itself, along with proper definitions on how to add vectors and multiply them with scalar values. If all of the scalars in a vector are real-valued then the notation $\\boldsymbol{x} \\in \\mathbb{R}^{n}$ states that the (boldface lowercase) vector value $\\boldsymbol{x}$ is a member of the $n$-dimensional vector space of real numbers, $\\mathbb{R}^{n}$.\n",
        "\n",
        "Sometimes it is necessary to identify the components of a vector explicitly. The $i$th scalar element of a vector is written as ${x_{i}}$. Notice that this is non-bold lowercase since the element is a scalar. An $n$-dimensional vector itself can be explicitly written using the following notation:\n",
        "\n",
        "$$\\boldsymbol{x} = \\begin{bmatrix} x_1 \\\\ x_2 \\\\ \\vdots \\\\ x_n \\end{bmatrix}$$\n",
        "\n",
        "Given that scalars exist to represent values why are vectors necessary? One of the primary use cases for vectors is to represent physical quantities that have both a magnitude and a direction. Scalars are only capable of representing magnitudes.\n",
        "\n",
        "For instance scalars and vectors encode the difference between the speed of a car and its velocity. The velocity contains not only its speed but also its direction of travel. It is not difficult to imagine many more physical quantities that possess similar characteristics such as gravitational and electromagnetic forces or wind velocity.\n",
        "\n",
        "In Deep Learning vectors often represent feature vectors, with their individual components specifying how important a particular feature is. Such features could include relative importance of words in a text document, the intensity of a set of pixels in a two-dimensional image or historical price values for a cross-section of financial instruments.\n"
      ]
    },
    {
      "cell_type": "markdown",
      "metadata": {
        "id": "B0ikpYufjxgc"
      },
      "source": [
        "## **Matrix**\n",
        "\n",
        "A Matrix is a rectangular arrays consisting of numbers and is an example of 2nd-order tensors.\n",
        "\n",
        "If $m$ and $n$ are positive integers, that is $m,n \\in \\mathbb{N}$ then the $m \\times n$ matrix contains $mn$ numbers, with $m$ rows and $n$ columns.\n",
        "\n",
        "If all of the scalars in a matrix are real-valued then a matrix is denoted with uppercase boldface letters, such as $\\boldsymbol{A} \\in \\mathbb{R}^{m \\times n}$\n",
        ". That is the matrix lives in a $m \\times n$-dimensional real-valued vector space. Hence matrices are really vectors that are just written in a two-dimensional table-like manner.\n",
        "\n",
        "Its components are now identified by two indices $i$ and $j$. $i$ represents the index to the matrix row, while $j$ represents the index to the matrix column. Each component of $\\boldsymbol{A}$is identified by $a_{ij}$.\n",
        "\n",
        "The full $m \\times n$ matrix can be written as:\n",
        "\n",
        "$$\n",
        "\\boldsymbol{A} = \\begin{bmatrix}\n",
        "a_{11} & a_{12} & a_{13} & \\cdots & a_{1n}\\\\ \n",
        "a_{21} & a_{22} & a_{23} & \\cdots & a_{2n}\\\\ \n",
        "a_{31} & a_{32} & a_{33} & \\cdots & a_{3n}\\\\ \n",
        "\\vdots & \\vdots & \\vdots & \\ddots  & \\vdots\\\\ \n",
        "a_{m1} & a_{m2} & a_{m3} & \\cdots & a_{mn}\\\\ \n",
        "\\end{bmatrix}\n",
        "$$\n",
        "\n",
        "It is often useful to abbreviate the full matrix component display into the following expression:\n",
        "\n",
        "$$\n",
        "\\boldsymbol{A} = \\left [ a_{ij} \\right ]_{m \\times n}\n",
        "$$\n",
        "\n",
        "Where $a_{ij}$ is referred to as the $(i,j)$-element of the matrix $\\boldsymbol{A}$. The subscript of $m \\times n$ can be dropped if the dimension of the matrix is clear from the context.\n",
        "\n",
        "Note that a column vector is a size $m \\times 1$ matrix, since it has $m$ rows and 1 column. Unless otherwise specified all vectors will be considered to be column vectors.\n",
        "\n",
        "Matrices represent a type of function known as a linear map. It is possible to define multiplication operations between matrices or between matrices and vectors. Such operations are immensely important across the physical sciences, quantitative finance, computer science and Deep Learning.\n",
        "\n",
        "Matrices can encode geometric operations such as rotation, reflection and transformation. Thus if a collection of vectors represents the vertices of a three-dimensional geometric model in Computer Aided Design software then multiplying these vectors individually by a pre-defined rotation matrix will output new vectors that represent the locations of the rotated vertices. This is the basis of modern 3D computer graphics.\n",
        "\n",
        "In Artificial Neural Networks weights are stored as matrices, while feature inputs are stored as vectors. Formulating the problem in terms of linear algebra allows compact handling of these computations. By casting the problem in terms of tensors and utilising the machinery of linear algebra, rapid training times on modern GPU hardware can be obtained.\n"
      ]
    },
    {
      "cell_type": "markdown",
      "metadata": {
        "id": "wOch82gqjzO_"
      },
      "source": [
        "## **Tensor**\n",
        "\n",
        "The more general entity of a tensor encapsulates the scalar, vector and the matrix. It is sometimes necessary, both in the physical sciences and Deep Learning, to make use of tensors with order that exceeds two.\n",
        "\n",
        "A tensor is a container which can house data in $n$ dimensions, along with its linear operations.\n",
        "\n",
        "In theoretical physics, and general relativity in particular, the Riemann curvature tensor is a 4th-order tensor that describes the local curvature of spacetime. In Deep Learning, a 3rd-order tensor can be used to describe the intensity values of multiple channels (red, green and blue) from a two-dimensional image.\n",
        "\n",
        "Tensors will be identified via the boldface sans-serif notation, $\\mathsf{A}$. For a 3rd-order tensor elements will be given by $a_{ijk}$, whereas for a 4th-order tensor elements will be given by $a_{ijkl}$.\n",
        "\n",
        "Mathematically speaking, tensors are more than simply a data container, however. Aside from holding numeric data, tensors also include descriptions of the valid linear transformations between tensors. Examples of such transformations, or relations, include the cross product and the dot product.\n",
        "\n"
      ]
    },
    {
      "cell_type": "markdown",
      "metadata": {
        "id": "lwaNcsdDMVeY"
      },
      "source": [
        "||![](https://www.kdnuggets.com/wp-content/uploads/scalar-vector-matrix-tensor.jpg)||\n",
        "|---|---|---|\n"
      ]
    },
    {
      "cell_type": "markdown",
      "metadata": {
        "id": "vS8pCvyhnCsN"
      },
      "source": [
        "# **Working with Numpy and Tensorflow**\n"
      ]
    },
    {
      "cell_type": "markdown",
      "metadata": {
        "id": "pZeInogrUV4I"
      },
      "source": [
        "## **Numpy**\n",
        "\n",
        "Numpy is the core library for scientific computing in Python. Data manipulation is nearly synonymous with NumPy array manipulation: it provides a high-performance multidimensional array object, and tools for working with these arrays.\n",
        "\n",
        "A numpy array, also known as n-dimensional array `ndarray`, is a grid of values, all of the same type, and is indexed by a tuple of nonnegative integers. The number of dimensions is the rank of the array, and the shape of an array is a tuple of integers giving the size of the array along each dimension.\n",
        "\n",
        "The first step is to import the Numpy library.\n"
      ]
    },
    {
      "cell_type": "code",
      "metadata": {
        "id": "W32Y67UpsmUD"
      },
      "source": [
        "# Import Numpy\n",
        "\n",
        "import numpy as np\n"
      ],
      "execution_count": 1,
      "outputs": []
    },
    {
      "cell_type": "markdown",
      "metadata": {
        "id": "69QftPesssI3"
      },
      "source": [
        "A Numpy array can be created from a number or a nested Python lists."
      ]
    },
    {
      "cell_type": "code",
      "metadata": {
        "id": "mh3fCzUGtEcO"
      },
      "source": [
        "# Numpy: creating tensors\n",
        "\n",
        "np_scalar = np.array(27)\n",
        "\n",
        "np_vector = np.array([1, 2.0, 3, 4, 5])  # The \"2.0\" force the array to be float\n",
        "\n",
        "np_matrix = np.array([[1, 4, 7],\n",
        "                   [2, 5, 8],\n",
        "                   [3, 6, 9]])\n",
        "\n",
        "np_tensor = np.array([[[1, 4, 7],\n",
        "                    [2, 5, 8],\n",
        "                    [3, 6, 9]],\n",
        "                   [[10, 40, 70],\n",
        "                    [20, 50, 80],\n",
        "                    [30, 60, 90]],\n",
        "                   [[100, 400, 700],\n",
        "                    [200, 500, 800],\n",
        "                    [300, 600, 900]]])\n"
      ],
      "execution_count": 2,
      "outputs": []
    },
    {
      "cell_type": "markdown",
      "metadata": {
        "id": "HcJm0Sz1t2-O"
      },
      "source": [
        "The array object has some attributes that are very useful to have more information about the data inside the array.\n",
        "\n",
        "Some of these attributes are:\n",
        "- ndim: the number of dimensions\n",
        "- shape: the size of each dimension\n",
        "- size: the total size of the array\n",
        "- dtype: the data type of the array\n",
        "\n",
        "Applying these attributes to the arrays created before, it can be seen the different between each other:\n"
      ]
    },
    {
      "cell_type": "code",
      "metadata": {
        "id": "F3B5_LMouz5O",
        "colab": {
          "base_uri": "https://localhost:8080/"
        },
        "outputId": "d1964fa2-f26a-4105-ec6a-52f74443cb37"
      },
      "source": [
        "# Scalar\n",
        "print(\"SCALAR\")\n",
        "print(\"ndim: \", np_scalar.ndim)\n",
        "print(\"shape:\", np_scalar.shape)\n",
        "print(\"size: \", np_scalar.size)\n",
        "print(\"dtype:\", np_scalar.dtype)\n",
        "print(\"\")\n",
        "\n",
        "# Vector\n",
        "print(\"VECTOR\")\n",
        "print(\"ndim: \", np_vector.ndim)\n",
        "print(\"shape:\", np_vector.shape)\n",
        "print(\"size: \", np_vector.size)\n",
        "print(\"dtype:\", np_vector.dtype)\n",
        "print(\"\")\n",
        "\n",
        "# Matrix\n",
        "print(\"MATRIX\")\n",
        "print(\"ndim: \", np_matrix.ndim)\n",
        "print(\"shape:\", np_matrix.shape)\n",
        "print(\"size: \", np_matrix.size)\n",
        "print(\"dtype:\", np_matrix.dtype)\n",
        "print(\"\")\n",
        "\n",
        "# Tensor\n",
        "print(\"TENSOR\")\n",
        "print(\"ndim: \", np_tensor.ndim)\n",
        "print(\"shape:\", np_tensor.shape)\n",
        "print(\"size: \", np_tensor.size)\n",
        "print(\"dtype:\", np_tensor.dtype)\n",
        "print(\"\")\n",
        "\n"
      ],
      "execution_count": 3,
      "outputs": [
        {
          "output_type": "stream",
          "name": "stdout",
          "text": [
            "SCALAR\n",
            "ndim:  0\n",
            "shape: ()\n",
            "size:  1\n",
            "dtype: int64\n",
            "\n",
            "VECTOR\n",
            "ndim:  1\n",
            "shape: (5,)\n",
            "size:  5\n",
            "dtype: float64\n",
            "\n",
            "MATRIX\n",
            "ndim:  2\n",
            "shape: (3, 3)\n",
            "size:  9\n",
            "dtype: int64\n",
            "\n",
            "TENSOR\n",
            "ndim:  3\n",
            "shape: (3, 3, 3)\n",
            "size:  27\n",
            "dtype: int64\n",
            "\n"
          ]
        }
      ]
    },
    {
      "cell_type": "markdown",
      "metadata": {
        "id": "d28cOBVLvzD_"
      },
      "source": [
        "As stated before, the number of dimensions `ndim` shows the type of tensor it is.\n",
        "\n",
        "Working with tensors, all are tensors of different dimension. For the first 3 dimensions, from 0 to 2, the tensors receive an special name: scalar, vector and matrix.\n",
        "\n",
        "Numpy provides many functions to create arrays, which is veryuseful when working with big arrays:\n",
        "\n",
        "- Array with all values equal to 0\n",
        "- Array with all values equal to 1\n",
        "- Array with all values equal to a given number\n",
        "- Identity matrix\n",
        "- Array with random numbers\n",
        "\n"
      ]
    },
    {
      "cell_type": "code",
      "metadata": {
        "id": "d7NXYDvMtZg2",
        "colab": {
          "base_uri": "https://localhost:8080/"
        },
        "outputId": "157bfd4e-5b4c-4d10-adea-a25c1cfd57c4"
      },
      "source": [
        "# Numpy provides many functions to create arrays:\n",
        "\n",
        "print(\"Array with 0s\")\n",
        "np_a = np.zeros((2,2))    # Create an array of all zeros\n",
        "print(np_a)               # Prints \"[[ 0.  0.]\n",
        "                          #          [ 0.  0.]]\"\n",
        "print(\"\")\n",
        "\n",
        "print(\"Array with 1s\")\n",
        "np_b = np.ones((1,2))     # Create an array of all ones\n",
        "print(np_b)               # Prints \"[[ 1.  1.]]\"\n",
        "print(\"\")\n",
        "\n",
        "print(\"Array with a value\")\n",
        "np_c = np.full((2,2), 7)  # Create a constant array\n",
        "print(np_c)               # Prints \"[[ 7.  7.]\n",
        "                          #          [ 7.  7.]]\"\n",
        "print(\"\")\n",
        "\n",
        "print(\"Identity Matrix\")\n",
        "np_d = np.eye(2)          # Create a 2x2 identity matrix\n",
        "print(np_d)               # Prints \"[[ 1.  0.]\n",
        "                          #          [ 0.  1.]]\"\n",
        "print(\"\")\n",
        "\n",
        "print(\"Array with random numbers\")\n",
        "np.random.seed(0)\n",
        "np_e = np.random.random((2,2))  # Create an array filled with random values\n",
        "print(np_e)                     # Might print \"[[0.5488135  0.71518937]\n",
        "                                #               [0.60276338 0.54488318]]\"\n",
        "print(\"\")\n"
      ],
      "execution_count": 4,
      "outputs": [
        {
          "output_type": "stream",
          "name": "stdout",
          "text": [
            "Array with 0s\n",
            "[[0. 0.]\n",
            " [0. 0.]]\n",
            "\n",
            "Array with 1s\n",
            "[[1. 1.]]\n",
            "\n",
            "Array with a value\n",
            "[[7 7]\n",
            " [7 7]]\n",
            "\n",
            "Identity Matrix\n",
            "[[1. 0.]\n",
            " [0. 1.]]\n",
            "\n",
            "Array with random numbers\n",
            "[[0.5488135  0.71518937]\n",
            " [0.60276338 0.54488318]]\n",
            "\n"
          ]
        }
      ]
    },
    {
      "cell_type": "markdown",
      "metadata": {
        "id": "Ua8c_wgyzNOS"
      },
      "source": [
        "## **TensorFlow**\n",
        "\n",
        "Similar to NumPy `array` objects, `tf.Tensor` objects have a data type and a shape. Additionally, `tf.Tensor`s can reside in accelerator memory (like a GPU). TensorFlow offers a rich library of operations (`tf.add`, `tf.matmul`, `tf.linalg.inv`, etc.) that consume and produce `tf.Tensor`s. These operations automatically convert native Python types.\n",
        "\n",
        "\n",
        "### **NumPy Compatibility**\n",
        "\n",
        "Converting between a TensorFlow `tf.Tensor`s and a NumPy `ndarray` is easy:\n",
        "\n",
        "- TensorFlow operations automatically convert NumPy ndarrays to Tensors.\n",
        "- NumPy operations automatically convert Tensors to NumPy ndarrays.\n",
        "\n",
        "Tensors are explicitly converted to NumPy ndarrays using their `.numpy()` method. These conversions are typically cheap since the array and `tf.Tensor` share the underlying memory representation, if possible. However, sharing the underlying representation isn't always possible since the `tf.Tensor` may be hosted in GPU memory while NumPy arrays are always backed by host memory, and the conversion involves a copy from GPU to host memory.\n",
        "\n",
        "\n",
        "### **GPU acceleration**\n",
        "\n",
        "Many TensorFlow operations are accelerated using the GPU for computation. Without any annotations, TensorFlow automatically decides whether to use the GPU or CPU for an operation, copying the tensor between CPU and GPU memory, if necessary. Tensors produced by an operation are typically backed by the memory of the device on which the operation executed.\n",
        "\n",
        "This make easier the scalability of a project, doing the calculations in the best performance system.\n",
        "\n",
        "\n",
        "As always, the first step is to import the Numpy library."
      ]
    },
    {
      "cell_type": "code",
      "metadata": {
        "id": "l0Za5fWQiUTQ"
      },
      "source": [
        "# Import TensorFlow\n",
        "\n",
        "import tensorflow as tf\n"
      ],
      "execution_count": 5,
      "outputs": []
    },
    {
      "cell_type": "markdown",
      "metadata": {
        "id": "36lDYfBRkKTK"
      },
      "source": [
        "In the same way that Numpy ndarrays, a tensor can be created with TensorFlow from a number or a nested Python lists."
      ]
    },
    {
      "cell_type": "code",
      "metadata": {
        "id": "SUrcgBODkGky"
      },
      "source": [
        "# TensorFlow: creating tensors\n",
        "\n",
        "tf_scalar = tf.constant(27)\n",
        "\n",
        "tf_vector = tf.constant([1, 2.0, 3, 4, 5])  # The \"2.0\" force the array to be float\n",
        "\n",
        "tf_matrix = tf.constant([[1, 4, 7],\n",
        "                   [2, 5, 8],\n",
        "                   [3, 6, 9]])\n",
        "\n",
        "tf_tensor = tf.constant([[[1, 4, 7],\n",
        "                    [2, 5, 8],\n",
        "                    [3, 6, 9]],\n",
        "                   [[10, 40, 70],\n",
        "                    [20, 50, 80],\n",
        "                    [30, 60, 90]],\n",
        "                   [[100, 400, 700],\n",
        "                    [200, 500, 800],\n",
        "                    [300, 600, 900]]])\n"
      ],
      "execution_count": 6,
      "outputs": []
    },
    {
      "cell_type": "markdown",
      "metadata": {
        "id": "tDF8ptvTifBL"
      },
      "source": [
        "Tensorflow has fewer attributes to inspect the tensor. In thiis case the available ones are:\n",
        "\n",
        "- shape: the size of each dimension\n",
        "- dtype: the data type of the array\n"
      ]
    },
    {
      "cell_type": "code",
      "metadata": {
        "id": "4AXi3WrYlhvr",
        "colab": {
          "base_uri": "https://localhost:8080/"
        },
        "outputId": "f1f7c36b-72dd-47ac-9c8c-6a6f22e75d1b"
      },
      "source": [
        "# Scalar\n",
        "print(\"SCALAR\")\n",
        "print(\"shape:\", tf_scalar.shape)\n",
        "print(\"dtype:\", tf_scalar.dtype)\n",
        "print(\"\")\n",
        "\n",
        "# Vector\n",
        "print(\"VECTOR\")\n",
        "print(\"shape:\", tf_vector.shape)\n",
        "print(\"dtype:\", tf_vector.dtype)\n",
        "print(\"\")\n",
        "\n",
        "# Matrix\n",
        "print(\"MATRIX\")\n",
        "print(\"shape:\", tf_matrix.shape)\n",
        "print(\"dtype:\", tf_matrix.dtype)\n",
        "print(\"\")\n",
        "\n",
        "# Tensor\n",
        "print(\"TENSOR\")\n",
        "print(\"shape:\", tf_tensor.shape)\n",
        "print(\"dtype:\", tf_tensor.dtype)\n",
        "print(\"\")\n",
        "\n"
      ],
      "execution_count": 7,
      "outputs": [
        {
          "output_type": "stream",
          "name": "stdout",
          "text": [
            "SCALAR\n",
            "shape: ()\n",
            "dtype: <dtype: 'int32'>\n",
            "\n",
            "VECTOR\n",
            "shape: (5,)\n",
            "dtype: <dtype: 'float32'>\n",
            "\n",
            "MATRIX\n",
            "shape: (3, 3)\n",
            "dtype: <dtype: 'int32'>\n",
            "\n",
            "TENSOR\n",
            "shape: (3, 3, 3)\n",
            "dtype: <dtype: 'int32'>\n",
            "\n"
          ]
        }
      ]
    },
    {
      "cell_type": "markdown",
      "metadata": {
        "id": "awbZQ-YimJA7"
      },
      "source": [
        "\n",
        "TensorFlow also supports many functions to create tensors, like Numpy:\n",
        "\n",
        "- Array with all values equal to 0\n",
        "- Array with all values equal to 1\n",
        "- Array with all values equal to a given number\n",
        "- Identity matrix\n",
        "- Array with random numbers\n"
      ]
    },
    {
      "cell_type": "code",
      "metadata": {
        "id": "QkAs_BarmgIL",
        "colab": {
          "base_uri": "https://localhost:8080/"
        },
        "outputId": "179220e4-d244-41a1-9a7e-5044eacc224d"
      },
      "source": [
        "# TensorFlow provides many functions to create arrays:\n",
        "\n",
        "print(\"Array with 0s\")\n",
        "tf_a = tf.zeros((2,2))    # Create an array of all zeros\n",
        "print(tf_a)               # Prints \"[[ 0.  0.]\n",
        "                          #          [ 0.  0.]]\"\n",
        "print(\"\")\n",
        "\n",
        "print(\"Array with 1s\")\n",
        "tf_b = tf.ones((1,2))     # Create an array of all ones\n",
        "print(tf_b)               # Prints \"[[ 1.  1.]]\"\n",
        "print(\"\")\n",
        "\n",
        "print(\"Array with a value\")\n",
        "tf_c = tf.fill((2,2), 7)  # Create a constant array\n",
        "print(tf_c)               # Prints \"[[ 7.  7.]\n",
        "                          #          [ 7.  7.]]\"\n",
        "print(\"\")\n",
        "\n",
        "print(\"Identity Matrix\")\n",
        "tf_d = tf.eye(2)          # Create a 2x2 identity matrix\n",
        "print(tf_d)               # Prints \"[[ 1.  0.]\n",
        "                          #          [ 0.  1.]]\"\n",
        "print(\"\")\n",
        "\n",
        "print(\"Array with random numbers\")\n",
        "tf.random.set_seed(0)\n",
        "tf_e = tf.random.uniform((2,2)) # Create an array filled with random values\n",
        "print(tf_e)                     # Might print \"[[0.29197514 0.20656645]\n",
        "                                #               [0.53539073 0.5612575 ]]\"\n"
      ],
      "execution_count": 8,
      "outputs": [
        {
          "output_type": "stream",
          "name": "stdout",
          "text": [
            "Array with 0s\n",
            "tf.Tensor(\n",
            "[[0. 0.]\n",
            " [0. 0.]], shape=(2, 2), dtype=float32)\n",
            "\n",
            "Array with 1s\n",
            "tf.Tensor([[1. 1.]], shape=(1, 2), dtype=float32)\n",
            "\n",
            "Array with a value\n",
            "tf.Tensor(\n",
            "[[7 7]\n",
            " [7 7]], shape=(2, 2), dtype=int32)\n",
            "\n",
            "Identity Matrix\n",
            "tf.Tensor(\n",
            "[[1. 0.]\n",
            " [0. 1.]], shape=(2, 2), dtype=float32)\n",
            "\n",
            "Array with random numbers\n",
            "tf.Tensor(\n",
            "[[0.29197514 0.20656645]\n",
            " [0.53539073 0.5612575 ]], shape=(2, 2), dtype=float32)\n"
          ]
        }
      ]
    },
    {
      "cell_type": "markdown",
      "metadata": {
        "id": "fontCB5hSomF"
      },
      "source": [
        "# **Operations with tensors**\n",
        "\n",
        "As seen before, it is all about dimentions. The tensor entity allows to work with $n$-dimension data or objects.\n",
        "\n",
        "Most of the operations are based and explained for 2-dimension tensors, this is: matrices.\n",
        "\n",
        "In this way is easier to understand the calculations in 2 dimensions to later use them in higher dimension tensors.\n",
        "\n",
        "At this stage it is not likely to be clear why these operations will be useful in the context of Deep Learning.\n",
        "\n",
        "Understand the basics of them will drive into a much better position to grasp the more complex ideas that form the backbone of Artificial Neural Networks.\n",
        "\n",
        "Such operations include addition and multiplication. While is common to be very familiar with scalar addition and multiplication, the rules differ somewhat when dealing with more general tensor entities.\n",
        "\n",
        "While matrix operations can be done both with Numpy and TensorFlow libraries, this exercise will focus on use the later because of compatibility between both libraries but also the added options for scalability.\n"
      ]
    },
    {
      "cell_type": "markdown",
      "metadata": {
        "id": "b1SNgvabVXim"
      },
      "source": [
        "# **Matrix Addition**\n",
        "\n",
        "Matrices can be added to scalars, vectors and other matrices. Each of these operations has a precise definition.\n",
        "\n"
      ]
    },
    {
      "cell_type": "markdown",
      "metadata": {
        "id": "G1soOeUeu3gT"
      },
      "source": [
        "## **Matrix-Matrix Addition**\n",
        "\n",
        "Given two matrices of size $m \\times n$:\n",
        "\n",
        "$$\n",
        "\\boldsymbol{A} = \\left [ a_{ij} \\right ]\n",
        "$$\n",
        "\n",
        "$$\n",
        "\\boldsymbol{B} = \\left [ b_{ij} \\right ]\n",
        "$$\n",
        "\n",
        "... it is possible to define the matrix sum:\n",
        "\n",
        "$$\n",
        "\\boldsymbol{C} = \\boldsymbol{A} + \\boldsymbol{B}\n",
        "$$\n",
        "\n",
        "Where:\n",
        "\n",
        "$$\n",
        "\\boldsymbol{C} = \\left [ c_{ij} \\right ]\n",
        "$$\n",
        "\n",
        "$$\n",
        "c_{ij} = a_{ij} + b_{ij}\n",
        "$$\n",
        "\n",
        "\n",
        "That is, $\\boldsymbol{C}$ is constructed by element-wise summing the respective elements of $\\boldsymbol{A}$ and $\\boldsymbol{B}$. This operation is only defined where the two matrices have equal size. The definition implies that $\\boldsymbol{C}$ also has size $m \\times n$.\n",
        "\n",
        "Matrix addition is *commutative*. This means that it doesn't matter which way around the matrices are added:\n",
        "\n",
        "$$\n",
        "\\boldsymbol{A} + \\boldsymbol{B} = \\boldsymbol{B} + \\boldsymbol{A}\n",
        "$$\n",
        "\n",
        "It is also *associative*. This means that you get the same result if you add two matrices together first, and then another, as if you add another two together first and then the other:\n",
        "\n",
        "$$\n",
        "\\boldsymbol{A} + ( \\boldsymbol{B} + \\boldsymbol{C} )= ( \\boldsymbol{A} + \\boldsymbol{B} ) + \\boldsymbol{C}\n",
        "$$\n",
        "\n",
        "Both of these results follow from the fact that normal scalar addition is itself commutative and associative, because it is just adding the elements together.\n"
      ]
    },
    {
      "cell_type": "markdown",
      "metadata": {
        "id": "MwKP5BIsa2yB"
      },
      "source": [
        "### **Example**\n",
        "\n",
        "Given two matrices of shape $3 \\times 2$:\n",
        "\n",
        "$$\n",
        "\\boldsymbol{A} = \\begin{bmatrix}\n",
        "a_{11} & a_{12}\\\\\n",
        "a_{21} & a_{22}\\\\\n",
        "a_{31} & a_{32}\\\\\n",
        "\\end{bmatrix}\\qquad\n",
        "\\boldsymbol{B} = \\begin{bmatrix}\n",
        "b_{11} & b_{12}\\\\\n",
        "b_{21} & b_{22}\\\\\n",
        "b_{31} & b_{32}\\\\\n",
        "\\end{bmatrix}\n",
        "$$\n",
        "\n",
        "The matrix sum is:\n",
        "\n",
        "$$\n",
        "\\boldsymbol{A} + \\boldsymbol{B} =\n",
        "\\begin{bmatrix}\n",
        "a_{11} & a_{12}\\\\\n",
        "a_{21} & a_{22}\\\\\n",
        "a_{31} & a_{32}\\\\\n",
        "\\end{bmatrix} +\n",
        "\\begin{bmatrix}\n",
        "b_{11} & b_{12}\\\\\n",
        "b_{21} & b_{22}\\\\\n",
        "b_{31} & b_{32}\\\\\n",
        "\\end{bmatrix} =\n",
        "\\begin{bmatrix}\n",
        "a_{11}+b_{11} & a_{12}+b_{12}\\\\\n",
        "a_{21}+b_{21} & a_{22}+b_{22}\\\\\n",
        "a_{31}+b_{31} & a_{32}+b_{32}\\\\\n",
        "\\end{bmatrix}\n",
        "$$\n",
        "\n",
        "This can be calculated with Tensorflow:\n"
      ]
    },
    {
      "cell_type": "code",
      "metadata": {
        "id": "n0PIP3-2fwFV",
        "colab": {
          "base_uri": "https://localhost:8080/"
        },
        "outputId": "530f1022-3c50-453d-956c-abb81897b519"
      },
      "source": [
        "# Matrix sum with Tensorflow\n",
        "\n",
        "a = tf.constant([[1, 2],\n",
        "                 [3, 4],\n",
        "                 [5, 6]])\n",
        "\n",
        "b = tf.constant([[10, 20],\n",
        "                 [30, 40],\n",
        "                 [50, 60]])\n",
        "\n",
        "c = tf.add(a,b)\n",
        "\n",
        "print(c)\n"
      ],
      "execution_count": 9,
      "outputs": [
        {
          "output_type": "stream",
          "name": "stdout",
          "text": [
            "tf.Tensor(\n",
            "[[11 22]\n",
            " [33 44]\n",
            " [55 66]], shape=(3, 2), dtype=int32)\n"
          ]
        }
      ]
    },
    {
      "cell_type": "markdown",
      "metadata": {
        "id": "N_LXWoQdhUvK"
      },
      "source": [
        "## **Matrix-Scalar Addition**\n",
        "\n",
        "It is possible to add a scalar value $x$ to a matrix $\\boldsymbol{A} = [ a_{ij}]$ to produce a new matrix $\\boldsymbol{B} = [ b_{ij}]$ where:\n",
        "\n",
        "$$\n",
        "b_{ij} = x + a_{ij}\n",
        "$$\n",
        "\n",
        "This simply means that the same scalar value is added to every element of the matrix. It is written as:\n",
        "\n",
        "$$\n",
        "\\boldsymbol{B} = x + \\boldsymbol{A}\n",
        "$$\n",
        "\n",
        "\n",
        "Scalar-matrix addition is once again commutative and associative, because normal scalar addition is both commutative and associative.\n",
        "\n"
      ]
    },
    {
      "cell_type": "markdown",
      "metadata": {
        "id": "ct_A30zM0iRf"
      },
      "source": [
        "### **Example**\n",
        "\n",
        "Given a scalar an a matrix of shape $3 \\times 2$:\n",
        "\n",
        "$$\n",
        "x\n",
        "\\quad\n",
        ",\n",
        "\\quad\n",
        "\\boldsymbol{A} = \\begin{bmatrix}\n",
        "a_{11} & a_{12}\\\\\n",
        "a_{21} & a_{22}\\\\\n",
        "a_{31} & a_{32}\\\\\n",
        "\\end{bmatrix}\\qquad\n",
        "$$\n",
        "\n",
        "The matrix sum is:\n",
        "\n",
        "$$\n",
        "x + \\boldsymbol{A} =\n",
        "x + \n",
        "\\begin{bmatrix}\n",
        "a_{11} & a_{12}\\\\\n",
        "a_{21} & a_{22}\\\\\n",
        "a_{31} & a_{32}\\\\\n",
        "\\end{bmatrix} =\n",
        "\\begin{bmatrix}\n",
        "x+a_{11} & x+a_{12}\\\\\n",
        "x+a_{21} & x+a_{22}\\\\\n",
        "x+a_{31} & x+a_{32}\\\\\n",
        "\\end{bmatrix}\n",
        "$$\n",
        "\n",
        "This can be calculated with Tensorflow as follows:\n"
      ]
    },
    {
      "cell_type": "code",
      "metadata": {
        "id": "nyPjC1xy1S29",
        "colab": {
          "base_uri": "https://localhost:8080/"
        },
        "outputId": "b798ad8b-45ef-4fb7-c373-031c8cd3a105"
      },
      "source": [
        "# Matrix sum with Tensorflow\n",
        "\n",
        "x = 3\n",
        "\n",
        "a = tf.constant([[1, 2],\n",
        "                 [3, 4],\n",
        "                 [5, 6]])\n",
        "\n",
        "b = tf.add(x,a)\n",
        "\n",
        "print(b)\n"
      ],
      "execution_count": 10,
      "outputs": [
        {
          "output_type": "stream",
          "name": "stdout",
          "text": [
            "tf.Tensor(\n",
            "[[4 5]\n",
            " [6 7]\n",
            " [8 9]], shape=(3, 2), dtype=int32)\n"
          ]
        }
      ]
    },
    {
      "cell_type": "markdown",
      "metadata": {
        "id": "c8nFuLVUhnlj"
      },
      "source": [
        "## **Exercise 01**\n",
        "\n",
        "Like in most companies, it is common that the employees work in different projects during the month. In order to have a good resource control system, there is a registry of hours dedicated to each project by each employee.\n",
        "\n",
        "This is a copy of the data of the past month:\n",
        "\n",
        "||proj_01|proj_02|proj_03|\n",
        "|-|-|-|-|\n",
        "|emp_01|10|20|30|\n",
        "|emp_02|20|10|20|\n",
        "|emp_03||30|10|\n",
        "|emp_04|20|20|10|\n",
        "|emp_05|10|10|30|\n",
        "\n",
        "\n",
        "It's time to do the bills for each project and employee, for the last 3 months.\n",
        "\n",
        "How much time has expended the employee 04 in the project 02?\n",
        "\n",
        "This is the data exported to Python:\n"
      ]
    },
    {
      "cell_type": "code",
      "metadata": {
        "id": "lYoL1ou_3ph8"
      },
      "source": [
        "# Time resources - Exported\n",
        "\n",
        "month_01 = [[10,20,30],\n",
        "            [20,10,20],\n",
        "            [0,30,10],\n",
        "            [20,20,10],\n",
        "            [10,10,30]]\n",
        "\n",
        "month_02 = [[20,30,10],\n",
        "            [20,20,20],\n",
        "            [10,20,20],\n",
        "            [20,30,10],\n",
        "            [20,30,0]]\n",
        "\n",
        "month_03 = [[20,20,10],\n",
        "            [30,20,0],\n",
        "            [30,10,10],\n",
        "            [0,30,20],\n",
        "            [10,20,30]]\n"
      ],
      "execution_count": 11,
      "outputs": []
    },
    {
      "cell_type": "markdown",
      "metadata": {
        "id": "zsky8m2n4ymo"
      },
      "source": [
        "## **Exercise 01 - Solution**\n",
        "\n",
        "( Your solution here )"
      ]
    },
    {
      "cell_type": "code",
      "metadata": {
        "id": "ocQqYQzv4BF4",
        "colab": {
          "base_uri": "https://localhost:8080/"
        },
        "outputId": "562e49b0-6339-4963-f46f-ec9f9e96b223"
      },
      "source": [
        "# Your solution code\n",
        "\n",
        "m1 = tf.constant(month_01)\n",
        "m2 = tf.constant(month_02)\n",
        "m3 = tf.constant(month_03)\n",
        "\n",
        "total_hours = tf.add(tf.add(m1,m2),m3)\n",
        "\n",
        "print(f\"Total Hours Employee 4 / Project 2: {total_hours[3][1]}\")"
      ],
      "execution_count": 32,
      "outputs": [
        {
          "output_type": "stream",
          "name": "stdout",
          "text": [
            "Total Hours Employee 4 / Project 2: 80\n"
          ]
        }
      ]
    },
    {
      "cell_type": "markdown",
      "metadata": {
        "id": "TDhRf3v_zbLe"
      },
      "source": [
        "# **Matrix multiplication**\n",
        "\n",
        "The rules for matrix addition are relatively simple and intuitive. However when it comes to multiplication of matrices the rules become more complex.\n",
        "\n"
      ]
    },
    {
      "cell_type": "markdown",
      "metadata": {
        "id": "DmV2WwPOzsUT"
      },
      "source": [
        "## **Matrix-Matrix Multiplication**\n",
        "\n",
        "This is a more complex operation than matrix addition because it does not simply involve multiplying the matrices element-wise. Instead a more complex procedure is utilised, for each element, involving an entire row of one matrix and an entire column of the other.\n",
        "\n",
        "The operation is only defined for matrices of specific sizes. The first matrix must have as many columns as the second matrix has rows, otherwise the operation is not defined.\n",
        "\n",
        "The definition below can be a bit tricky to understand initially, so have a look at it first and then try working through the examples to see how specific numeric instances match up to the general formula.\n",
        "\n",
        "Given two matrices:\n",
        "\n",
        "$$\n",
        "\\boldsymbol{A} = [a_{ij}]_{m \\times n}\n",
        "\\qquad\n",
        "\\boldsymbol{B} = [b_{ij}]_{n \\times p}\n",
        "$$\n",
        "\n",
        "The matrix product:\n",
        "\n",
        "$$\n",
        "\\boldsymbol{C} = \\boldsymbol{A}\\boldsymbol{B} = [c_{ij}]_{m \\times p}\n",
        "$$\n",
        "\n",
        "Where:\n",
        "\n",
        "$$\n",
        "c_{ij} = \\sum_{k=1}^{n} a_{ik} b_{kj}\n",
        "$$\n",
        "\n",
        "\n",
        "That is the elements $c_{ij}$ of the matrix $\\boldsymbol{C} = \\boldsymbol{A}\\boldsymbol{B}$ are given by summing the products of the elements of the $i$-th row of $\\boldsymbol{A}$ with the elements of the $j$-th column of $\\boldsymbol{B}$.\n",
        "\n",
        "Note that matrix-matrix multiplication is not commutative. That is:\n",
        "\n",
        "$$\n",
        "\\boldsymbol{A}\\boldsymbol{B}\\neq\\boldsymbol{B}\\boldsymbol{A}\n",
        "$$\n"
      ]
    },
    {
      "cell_type": "markdown",
      "metadata": {
        "id": "uxqeF7dF2F7E"
      },
      "source": [
        "### **Example**\n",
        "\n",
        "Given two matrices:\n",
        "\n",
        "$$\n",
        "\\boldsymbol{A} = \\begin{bmatrix}\n",
        "1 & 2 & 3 \\\\\n",
        "4 & 5 & 6 \\\\\n",
        "\\end{bmatrix}\\qquad\n",
        "\\boldsymbol{B} = \\begin{bmatrix}\n",
        "1 & 2\\\\\n",
        "3 & 4\\\\\n",
        "5 & 6\\\\\n",
        "\\end{bmatrix}\n",
        "$$\n",
        "\n",
        "It is possible to construct the product $\\boldsymbol{A}\\boldsymbol{B}$ of size $2 \\times 2$:\n",
        "\n",
        "$$\n",
        "\\boldsymbol{A}\\boldsymbol{B} =\n",
        "\\begin{bmatrix}\n",
        "1·1 + 2·3 + 3·5 & 1·2+2·4+3·6 \\\\\n",
        "4·1+5·3+6·5 & 4·2+5·4+6·6 \\\\\n",
        "\\end{bmatrix} =\n",
        "\\begin{bmatrix}\n",
        "22 & 28\\\\\n",
        "49 & 64\\\\\n",
        "\\end{bmatrix}\n",
        "$$\n",
        "\n",
        "It is also possible to construct the product $\\boldsymbol{B}\\boldsymbol{A}$ of size $3 \\times 3$:\n",
        "\n",
        "$$\n",
        "\\boldsymbol{B}\\boldsymbol{A} =\n",
        "\\begin{bmatrix}\n",
        "1·1+2·4 & 1·2+2·5 & 1·3+2·6\\\\\n",
        "3·1+4·4 & 3·2+4·5 & 3·3+4·6\\\\\n",
        "5·1+6·4 & 5·2+6·5 & 5·3+6·6\\\\\n",
        "\\end{bmatrix} =\n",
        "\\begin{bmatrix}\n",
        "9 & 12 & 15\\\\\n",
        "19 & 26 & 33\\\\\n",
        "29 & 40 & 51\\\\\n",
        "\\end{bmatrix}\n",
        "$$\n",
        "\n",
        "This can be calculated with Tensorflow:\n"
      ]
    },
    {
      "cell_type": "code",
      "metadata": {
        "id": "ftsucxK75ilb",
        "colab": {
          "base_uri": "https://localhost:8080/"
        },
        "outputId": "be14534b-d54b-48b3-b7c5-d18190cda77f"
      },
      "source": [
        "# Matrix sum with Tensorflow\n",
        "\n",
        "a = tf.constant([[1, 2, 3],\n",
        "                 [4, 5, 6]])\n",
        "\n",
        "b = tf.constant([[1, 2],\n",
        "                 [3, 4],\n",
        "                 [5, 6]])\n",
        "\n",
        "c = tf.matmul(a,b)\n",
        "\n",
        "print('AB:')\n",
        "print(c)\n",
        "print('')\n",
        "\n",
        "d = tf.matmul(b,a)\n",
        "\n",
        "print('BA:')\n",
        "print(d)\n",
        "print('')\n",
        "\n"
      ],
      "execution_count": 33,
      "outputs": [
        {
          "output_type": "stream",
          "name": "stdout",
          "text": [
            "AB:\n",
            "tf.Tensor(\n",
            "[[22 28]\n",
            " [49 64]], shape=(2, 2), dtype=int32)\n",
            "\n",
            "BA:\n",
            "tf.Tensor(\n",
            "[[ 9 12 15]\n",
            " [19 26 33]\n",
            " [29 40 51]], shape=(3, 3), dtype=int32)\n",
            "\n"
          ]
        }
      ]
    },
    {
      "cell_type": "markdown",
      "metadata": {
        "id": "_NOpjdNi6cek"
      },
      "source": [
        "## **Scalar-Matrix Multiplication**\n",
        "\n",
        "Scalar-matrix multiplication is simpler than matrix-matrix multiplication. Given a matrix $\\boldsymbol{A} = [a_{ij}]_{m \\times n}$\n",
        "and a scalar $x \\in \\mathbb{R}$, the scalar-matrix product $x\\boldsymbol{A}$ is calculated by multiplying every element of $\\boldsymbol{A}$ by $x$ such that $x\\boldsymbol{A} = [xa_{ij}]_{m \\times n}$.\n",
        "\n",
        "\n"
      ]
    },
    {
      "cell_type": "markdown",
      "metadata": {
        "id": "m8VGmJVO7EGU"
      },
      "source": [
        "### **Example**\n",
        "\n",
        "Given a scalar and a matrx:\n",
        "\n",
        "$$\n",
        "x = 2\n",
        "\\qquad\n",
        "\\boldsymbol{A} = \\begin{bmatrix}\n",
        "1 & 2 & 3 \\\\\n",
        "4 & 5 & 6 \\\\\n",
        "\\end{bmatrix}\n",
        "$$\n",
        "\n",
        "The scalar-matrix product is:\n",
        "\n",
        "$$\n",
        "x\\boldsymbol{A} =\n",
        "\\begin{bmatrix}\n",
        "2·1 & 2·2 & 2·3 \\\\\n",
        "2·4 & 2·5 & 2·6 \\\\\n",
        "\\end{bmatrix} =\n",
        "\\begin{bmatrix}\n",
        "2 & 4 & 6\\\\\n",
        "8 & 10 & 12\\\\\n",
        "\\end{bmatrix}\n",
        "$$\n",
        "\n",
        "This can be calculated with Tensorflow:\n"
      ]
    },
    {
      "cell_type": "code",
      "metadata": {
        "id": "vyuYBfnx6J4l",
        "colab": {
          "base_uri": "https://localhost:8080/"
        },
        "outputId": "df94d7f2-eb8a-45d6-951f-7e390fe9e5bf"
      },
      "source": [
        "# Scalar-Matrix product with Tensorflow\n",
        "\n",
        "a = tf.constant([[1, 2, 3],\n",
        "                 [4, 5, 6]])\n",
        "\n",
        "x = tf.constant(2)\n",
        "\n",
        "xa = tf.math.scalar_mul(x,a)\n",
        "\n",
        "print('xA:')\n",
        "print(xa)\n"
      ],
      "execution_count": 34,
      "outputs": [
        {
          "output_type": "stream",
          "name": "stdout",
          "text": [
            "xA:\n",
            "tf.Tensor(\n",
            "[[ 2  4  6]\n",
            " [ 8 10 12]], shape=(2, 3), dtype=int32)\n"
          ]
        }
      ]
    },
    {
      "cell_type": "markdown",
      "metadata": {
        "id": "zLmTz0Z5oHJy"
      },
      "source": [
        "# **Image manipulation**\n",
        "\n",
        "One of the fields where the matrix multiplications is most used, it is the image manipulation or edition. Images are used in almost every activity, from marketing to entertainment, from road signals to art, just to mention just a few.\n",
        "\n",
        "Images are commonly used but only some people take a look the magic behind working with them. A simple brightness correction or to apply a filter on an image requires a lot of calculations on millions of elements.\n",
        "\n",
        "For example, a Full HD image has 1920 x 1080 pixels with 3 colors channels: RGB. This is 6,220,800 values from 0 to 255. But a Full HD video of 1 second has 60 Full HD images, which is the same as 373,248,000 elements.\n",
        "\n",
        "Another way to see a Full HD image is as a tensor of shape `( 1920, 1080, 3 )` where each one of the 3rd dimension is the image on a RGB color channel. This can be used for images of any size. In fact, some images can have a transparent part and for that another color channel is needed, named Alpha. When an image has an alpha channel, the colors channel are RGBA and the 3rd dimension is 4 instead of 3.\n",
        "\n",
        "A simple image manipulation needs a lot of calculation to process any simple change, like converting a colored image to grayscale.\n",
        "\n",
        "This is when matrix multiplication can be used.\n"
      ]
    },
    {
      "cell_type": "markdown",
      "metadata": {
        "id": "shWhAqL-iq7o"
      },
      "source": [
        "## **Exercise 02**\n",
        "\n",
        "In a project using Artificial Neural Networks the input is an image. Hundred of images, in fact, are used to train the model to detect a specific text on them.\n",
        "\n",
        "For this reason, the color data is not relevant and the images can be converted to grayscale. Moreover, the images have an alpha channel for transparency.\n",
        "\n",
        "Converting the colored imaged with RGBA channels to grayscale reduces each one by 75%, reducing the overall data size, model complexity and calculation time.\n",
        "\n",
        "In order to convert a color image to grayscale, the following calculation has to be done:\n",
        "\n",
        "$$\n",
        "\\boldsymbol{GRAY} = \n",
        "0.2989 \\times \\boldsymbol{R}\n",
        "+ 0.5870 \\times \\boldsymbol{G}\n",
        "+ 0.1140 \\times \\boldsymbol{B}\n",
        "$$\n",
        "\n",
        "Where:\n",
        "\n",
        "$\n",
        "\\boldsymbol{R} = \\text{Red channel} \\\\\n",
        "\\boldsymbol{G} = \\text{Green channel} \\\\\n",
        "\\boldsymbol{B} = \\text{Blue channel}\n",
        "$ \n",
        "\n",
        "\n",
        "The following code can be used to load and show a grayscale image, but it shows a full color image when it is a RGB or RGBA image.\n"
      ]
    },
    {
      "cell_type": "code",
      "metadata": {
        "id": "y5wh61XjkxJZ",
        "colab": {
          "base_uri": "https://localhost:8080/",
          "height": 287
        },
        "outputId": "c36b3a8e-68d1-4040-dabd-c8357ae9a040"
      },
      "source": [
        "# Import libraries\n",
        "import matplotlib.pyplot as plt\n",
        "from matplotlib.pyplot import imread\n",
        "\n",
        "# Read image\n",
        "img_np = imread('https://upload.wikimedia.org/wikipedia/commons/thumb/2/2d/Tensorflow_logo.svg/224px-Tensorflow_logo.svg.png')\n",
        "\n",
        "# Convert image to tensor\n",
        "img = tf.convert_to_tensor(img_np, dtype=tf.float32)\n",
        "\n",
        "# Plot grayscale tensor\n",
        "plt.imshow(img, cmap=plt.get_cmap('gray'))"
      ],
      "execution_count": 35,
      "outputs": [
        {
          "output_type": "execute_result",
          "data": {
            "text/plain": [
              "<matplotlib.image.AxesImage at 0x7f3433be7b90>"
            ]
          },
          "metadata": {},
          "execution_count": 35
        },
        {
          "output_type": "display_data",
          "data": {
            "text/plain": [
              "<Figure size 432x288 with 1 Axes>"
            ],
            "image/png": "[encoded data removed]"
          },
          "metadata": {
            "needs_background": "light"
          }
        }
      ]
    },
    {
      "cell_type": "markdown",
      "metadata": {
        "id": "UzKMYOgLoPMJ"
      },
      "source": [
        "The objective is to convert this image to grayscale using matrix multiplication.\n"
      ]
    },
    {
      "cell_type": "markdown",
      "metadata": {
        "id": "1iZG2nedofxP"
      },
      "source": [
        "## **Exercise 02 - Solution**"
      ]
    },
    {
      "cell_type": "markdown",
      "metadata": {
        "id": "ScLzzd9ForM3"
      },
      "source": [
        "( Your solution here )"
      ]
    },
    {
      "cell_type": "code",
      "metadata": {
        "id": "QZ41RUZVbp-s",
        "colab": {
          "base_uri": "https://localhost:8080/",
          "height": 287
        },
        "outputId": "740ba93d-b5c2-4c21-c660-f8177457dba8"
      },
      "source": [
        "# Your solution code\n",
        "RED_CONV_GRAY = 0.2989\n",
        "GREEN_CONV_GRAY = 0.5870\n",
        "BLUE_CONV_GRAY = 0.1140\n",
        "\n",
        "red_gray_img = tf.math.scalar_mul(RED_CONV_GRAY,img[:,:,0])\n",
        "green_gray_img = tf.math.scalar_mul(GREEN_CONV_GRAY,img[:,:,1])\n",
        "blue_gray_img = tf.math.scalar_mul(BLUE_CONV_GRAY,img[:,:,2])\n",
        "\n",
        "gray_img = tf.add(tf.add(red_gray_img, green_gray_img),blue_gray_img)\n",
        "\n",
        "plt.imshow(gray_img, cmap=plt.get_cmap('gray'))"
      ],
      "execution_count": 141,
      "outputs": [
        {
          "output_type": "execute_result",
          "data": {
            "text/plain": [
              "<matplotlib.image.AxesImage at 0x7f3432b2f910>"
            ]
          },
          "metadata": {},
          "execution_count": 141
        },
        {
          "output_type": "display_data",
          "data": {
            "text/plain": [
              "<Figure size 432x288 with 1 Axes>"
            ],
            "image/png": "[encoded data removed]"
          },
          "metadata": {
            "needs_background": "light"
          }
        }
      ]
    },
    {
      "cell_type": "markdown",
      "metadata": {
        "id": "2GWWXCS7pslN"
      },
      "source": [
        "---\n"
      ]
    }
  ]
}